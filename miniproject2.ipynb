{
 "cells": [
  {
   "cell_type": "markdown",
   "metadata": {},
   "source": [
    "## COMP 472 - FALL 2022 - Mini-Project 2\n",
    "\n",
    "Due date: November 26"
   ]
  },
  {
   "cell_type": "markdown",
   "metadata": {},
   "source": [
    "#### Read txt file to create different input puzzles"
   ]
  },
  {
   "cell_type": "code",
   "execution_count": 1,
   "metadata": {},
   "outputs": [
    {
     "name": "stdout",
     "output_type": "stream",
     "text": [
      "Puzzle1: ...CC.DD.K.LIAAK.LI.JEEMFFJ..M.GGG..\n",
      "\n",
      "\n",
      "Puzzle2: BBICCLG.IJKLGAAJKMGHDDDM.H.....FF...\n",
      "\n",
      "\n",
      "Puzzle3: BBCCK...I.KL..IAALEEIJ.LH..JFFHGGG..\n",
      "\n",
      "\n",
      "Puzzle4: BBB..K..H..K..HAAKCCIJDDG.IJEEGFFF.. B0 C3\n",
      "\n",
      "\n",
      "Puzzle5: .BBBCC..JDDLAAJ.KLIEE.KMIFF..MGGHHHM\n",
      "\n"
     ]
    }
   ],
   "source": [
    "# open sample problem file\n",
    "input_file = open(\"sampleProblems.txt\",\"r\")\n",
    "\n",
    "problem_puzzles = []\n",
    "\n",
    "# filter lines to extract only the puzzles\n",
    "for line in input_file.readlines():\n",
    "    if line[0] != '\\n' and line[0] != '#':\n",
    "        problem_puzzles.append(line)\n",
    "    else:\n",
    "        continue\n",
    "\n",
    "# show the problem puzzles to test\n",
    "count = 0\n",
    "for i in problem_puzzles:\n",
    "    count += 1\n",
    "    print(\"Puzzle{}: {}\\n\".format(count, i))\n",
    "\n",
    "input_file.close()"
   ]
  },
  {
   "cell_type": "markdown",
   "metadata": {},
   "source": [
    "### Function definitions\n",
    "\n",
    "#### print game board\n",
    "print 6x6 game board"
   ]
  },
  {
   "cell_type": "code",
   "execution_count": 2,
   "metadata": {},
   "outputs": [
    {
     "name": "stdout",
     "output_type": "stream",
     "text": [
      "Problem Puzzle  1 : \n",
      "...CC.\n",
      "DD.K.L\n",
      "IAAK.L\n",
      "I.JEEM\n",
      "FFJ..M\n",
      ".GGG..\n",
      "\n",
      "Problem Puzzle  2 : \n",
      "BBICCL\n",
      "G.IJKL\n",
      "GAAJKM\n",
      "GHDDDM\n",
      ".H....\n",
      ".FF...\n",
      "\n",
      "Problem Puzzle  3 : \n",
      "BBCCK.\n",
      "..I.KL\n",
      "..IAAL\n",
      "EEIJ.L\n",
      "H..JFF\n",
      "HGGG..\n",
      "\n",
      "Problem Puzzle  4 : \n",
      "BBB..K\n",
      "..H..K\n",
      "..HAAK\n",
      "CCIJDD\n",
      "G.IJEE\n",
      "GFFF..\n",
      "\n",
      "Problem Puzzle  5 : \n",
      ".BBBCC\n",
      "..JDDL\n",
      "AAJ.KL\n",
      "IEE.KM\n",
      "IFF..M\n",
      "GGHHHM\n",
      "\n"
     ]
    }
   ],
   "source": [
    "def print_board(str):\n",
    "    if len(str) == 36:\n",
    "        for i in range(0, len(str), 6):\n",
    "            print(str[i: i + 6])\n",
    "    else: \n",
    "        new_str = str[0:35]\n",
    "        for i in range(0, len(new_str), 6):\n",
    "            print(str[i: i + 6])\n",
    "\n",
    "\n",
    "# testing function\n",
    "count = 0\n",
    "for p in problem_puzzles:\n",
    "    count+=1\n",
    "    print(\"Problem Puzzle \", count, \": \")\n",
    "    print_board(p)\n",
    "    print()"
   ]
  },
  {
   "cell_type": "markdown",
   "metadata": {},
   "source": [
    "#### List of cars in the puzzle\n",
    "\n",
    "returns a list of string with unique alphabet character representing each car"
   ]
  },
  {
   "cell_type": "code",
   "execution_count": 13,
   "metadata": {},
   "outputs": [
    {
     "name": "stdout",
     "output_type": "stream",
     "text": [
      "...CC.DD.K.LIAAK.LI.JEEMFFJ..M.GGG..\n",
      "\n",
      "{'I', 'E', 'M', 'F', '\\n', 'D', 'L', 'K', 'A', 'J', 'G', '.', 'C'}\n",
      "['I', 'H', 'J', 'M', 'F', 'D', 'L', 'B', 'K', 'A', 'G', 'C']\n"
     ]
    }
   ],
   "source": [
    "def car_list(str):\n",
    "    res = []\n",
    "    car = ''.join(set(str))\n",
    "\n",
    "    for c in car:\n",
    "        if c == '.':\n",
    "            continue\n",
    "        elif c == '\\n':\n",
    "            continue\n",
    "        else:\n",
    "            res.append(c)\n",
    "\n",
    "    return res\n",
    "\n",
    "# testing function\n",
    "print(problem_puzzles[0])\n",
    "print(set(problem_puzzles[0]))\n",
    "test_car_list = car_list(problem_puzzles[1])\n",
    "print(test_car_list)"
   ]
  },
  {
   "cell_type": "markdown",
   "metadata": {},
   "source": [
    "#### determine fuel level\n",
    "\n",
    "returns a list containing char representing cars and int representing fuel level <br>\n",
    "ex. [A , 100, B, 100, C, 100]"
   ]
  },
  {
   "cell_type": "code",
   "execution_count": 15,
   "metadata": {},
   "outputs": [
    {
     "name": "stdout",
     "output_type": "stream",
     "text": [
      "Test 1\n",
      "Car  B fuel level:  0\n",
      "Car  C fuel level:  3\n",
      "Car  I fuel level:  100\n",
      "Car  E fuel level:  100\n",
      "Car  H fuel level:  100\n",
      "Car  F fuel level:  100\n",
      "Car  D fuel level:  100\n",
      "Car  K fuel level:  100\n",
      "Car  A fuel level:  100\n",
      "Car  J fuel level:  100\n",
      "Car  G fuel level:  100\n",
      "Test 2\n",
      "Car  I fuel level:  100\n",
      "Car  E fuel level:  100\n",
      "Car  M fuel level:  100\n",
      "Car  F fuel level:  100\n",
      "Car  D fuel level:  100\n",
      "Car  L fuel level:  100\n",
      "Car  K fuel level:  100\n",
      "Car  A fuel level:  100\n",
      "Car  J fuel level:  100\n",
      "Car  G fuel level:  100\n",
      "Car  C fuel level:  100\n"
     ]
    }
   ],
   "source": [
    "def fuel_level(str):\n",
    "    car_fuel = []\n",
    "\n",
    "    # if the original line does not contain specification of initial fuel_level\n",
    "    if len(str) == 36:\n",
    "        cars = car_list(str)\n",
    "        for c in cars:\n",
    "            car_fuel.append(c)\n",
    "            car_fuel.append(100)\n",
    "    \n",
    "    if len(str)>36:\n",
    "        # the fuel-level specification is separated by a space\n",
    "        new_str = str[37:]\n",
    "        cars = car_list(str[:35])\n",
    "        for i in range(0, len(new_str), 3):\n",
    "            if new_str[i] in cars:\n",
    "                car_fuel.append(new_str[i])\n",
    "                car_fuel.append(new_str[i+1])\n",
    "\n",
    "        # for cars without fuel-level specification, add 100\n",
    "        for c in cars:\n",
    "            if c in car_fuel:\n",
    "                continue\n",
    "            else:\n",
    "                car_fuel.append(c)\n",
    "                car_fuel.append(100)\n",
    "        \n",
    "    return car_fuel\n",
    "\n",
    "\n",
    "#testing function\n",
    "print(\"Test 1\")\n",
    "test_res1 = fuel_level(problem_puzzles[3])\n",
    "for i in range(0, len(test_res1), 2):\n",
    "    print(\"Car \",test_res1[i], \"fuel level: \", test_res1[i+1])\n",
    "\n",
    "print(\"Test 2\")\n",
    "test_res2 = fuel_level(problem_puzzles[0])\n",
    "for i in range(0, len(test_res2), 2):\n",
    "    print(\"Car \",test_res2[i], \"fuel level: \", test_res2[i+1])"
   ]
  },
  {
   "cell_type": "markdown",
   "metadata": {},
   "source": [
    "#### Uniform Cost-Search"
   ]
  },
  {
   "cell_type": "code",
   "execution_count": 2,
   "metadata": {},
   "outputs": [
    {
     "name": "stdout",
     "output_type": "stream",
     "text": [
      "puzzle string: ...CC.DD.K.LIAAK.LI.JEEMFFJ..M.GGG..\n",
      "\n",
      "\n",
      "Car Length Dictionary: \n",
      "{'J': 2, 'E': 2, 'I': 2, 'L': 2, 'K': 2, 'C': 2, 'M': 2, 'F': 2, 'D': 2, 'A': 2, 'G': 3}\n",
      "\n",
      "Car Orientation Dictionary: \n",
      "{'C': 0, 'D': 0, 'K': 1, 'L': 1, 'I': 1, 'A': 0, 'J': 1, 'E': 0, 'M': 1, 'F': 0, 'G': 0}\n",
      "\n",
      "Car Fuel Dictionary: \n",
      "{'C': 100, 'D': 100, 'K': 100, 'L': 100, 'I': 100, 'A': 100, 'J': 100, 'E': 100, 'M': 100, 'F': 100, 'G': 100}\n",
      "puzzle in 2D\n",
      ". . . C C . \n",
      "\n",
      "D D . K . L \n",
      "\n",
      "I A A K . L \n",
      "\n",
      "I . J E E M \n",
      "\n",
      "F F J . . M \n",
      "\n",
      ". G G G . . \n",
      "\n",
      "\n",
      "Car Coordinate Dictionary: \n",
      "{'C': (0, 3), 'D': (1, 0), 'K': (1, 3), 'L': (1, 5), 'I': (2, 0), 'A': (2, 1), 'J': (3, 2), 'E': (3, 3), 'M': (3, 5), 'F': (4, 0), 'G': (5, 1)}\n",
      "puzzle string: BBICCLG.IJKLGAAJKMGHDDDM.H.....FF...\n",
      "\n",
      "\n",
      "Car Length Dictionary: \n",
      "{'J': 2, 'H': 2, 'B': 2, 'I': 2, 'L': 2, 'C': 2, 'K': 2, 'M': 2, 'F': 2, 'D': 3, 'A': 2, 'G': 3}\n",
      "\n",
      "Car Orientation Dictionary: \n",
      "{'B': 0, 'I': 1, 'C': 0, 'L': 1, 'G': 1, 'J': 1, 'K': 1, 'A': 0, 'M': 1, 'H': 1, 'D': 0, 'F': 0}\n",
      "\n",
      "Car Fuel Dictionary: \n",
      "{'B': 100, 'I': 100, 'C': 100, 'L': 100, 'G': 100, 'J': 100, 'K': 100, 'A': 100, 'M': 100, 'H': 100, 'D': 100, 'F': 100}\n",
      "puzzle in 2D\n",
      "B B I C C L \n",
      "\n",
      "G . I J K L \n",
      "\n",
      "G A A J K M \n",
      "\n",
      "G H D D D M \n",
      "\n",
      ". H . . . . \n",
      "\n",
      ". F F . . . \n",
      "\n",
      "\n",
      "Car Coordinate Dictionary: \n",
      "{'B': (0, 0), 'I': (0, 2), 'C': (0, 3), 'L': (0, 5), 'G': (1, 0), 'J': (1, 3), 'K': (1, 4), 'A': (2, 1), 'M': (2, 5), 'H': (3, 1), 'D': (3, 2), 'F': (5, 1)}\n",
      "puzzle string: BBCCK...I.KL..IAALEEIJ.LH..JFFHGGG..\n",
      "\n",
      "\n",
      "Car Length Dictionary: \n",
      "{'J': 2, 'E': 2, 'H': 2, 'B': 2, 'I': 3, 'L': 3, 'K': 2, 'C': 2, 'F': 2, 'A': 2, 'G': 3}\n",
      "\n",
      "Car Orientation Dictionary: \n",
      "{'B': 0, 'C': 0, 'K': 1, 'I': 1, 'L': 1, 'A': 0, 'E': 0, 'J': 1, 'H': 1, 'F': 0, 'G': 0}\n",
      "\n",
      "Car Fuel Dictionary: \n",
      "{'B': 100, 'C': 100, 'K': 100, 'I': 100, 'L': 100, 'A': 100, 'E': 100, 'J': 100, 'H': 100, 'F': 100, 'G': 100}\n",
      "puzzle in 2D\n",
      "B B C C K . \n",
      "\n",
      ". . I . K L \n",
      "\n",
      ". . I A A L \n",
      "\n",
      "E E I J . L \n",
      "\n",
      "H . . J F F \n",
      "\n",
      "H G G G . . \n",
      "\n",
      "\n",
      "Car Coordinate Dictionary: \n",
      "{'B': (0, 0), 'C': (0, 2), 'K': (0, 4), 'I': (1, 2), 'L': (1, 5), 'A': (2, 3), 'E': (3, 0), 'J': (3, 3), 'H': (4, 0), 'F': (4, 4), 'G': (5, 1)}\n",
      "puzzle string: BBB..K..H..K..HAAKCCIJDDG.IJEEGFFF.. B0 C3\n",
      "\n",
      "\n",
      "Car Length Dictionary: \n",
      "{'J': 2, 'E': 2, 'H': 2, 'B': 3, 'I': 2, 'K': 3, 'C': 2, 'F': 3, 'D': 2, 'A': 2, 'G': 2}\n",
      "\n",
      "Car Orientation Dictionary: \n",
      "{'B': 0, 'K': 1, 'H': 1, 'A': 0, 'C': 0, 'I': 1, 'J': 1, 'D': 0, 'G': 1, 'E': 0, 'F': 0}\n",
      "\n",
      "Car Fuel Dictionary: \n",
      "{'B': 0, 'C': 3, 'K': 100, 'H': 100, 'A': 100, 'I': 100, 'J': 100, 'D': 100, 'G': 100, 'E': 100, 'F': 100}\n",
      "puzzle in 2D\n",
      "B B B . . K \n",
      "\n",
      ". . H . . K \n",
      "\n",
      ". . H A A K \n",
      "\n",
      "C C I J D D \n",
      "\n",
      "G . I J E E \n",
      "\n",
      "G F F F . . \n",
      "\n",
      "\n",
      "Car Coordinate Dictionary: \n",
      "{'B': (0, 0), 'K': (0, 5), 'H': (1, 2), 'A': (2, 3), 'C': (3, 0), 'I': (3, 2), 'J': (3, 3), 'D': (3, 4), 'G': (4, 0), 'E': (4, 4), 'F': (5, 1)}\n",
      "puzzle string: .BBBCC..JDDLAAJ.KLIEE.KMIFF..MGGHHHM\n",
      "\n",
      "Car Length Dictionary: \n",
      "{'J': 2, 'E': 2, 'H': 3, 'B': 3, 'I': 2, 'L': 2, 'C': 2, 'K': 2, 'M': 3, 'F': 2, 'D': 2, 'A': 2, 'G': 2}\n",
      "\n",
      "Car Orientation Dictionary: \n",
      "{'B': 0, 'C': 0, 'J': 1, 'D': 0, 'L': 1, 'A': 0, 'K': 1, 'I': 1, 'E': 0, 'M': 1, 'F': 0, 'G': 0, 'H': 0}\n",
      "\n",
      "Car Fuel Dictionary: \n",
      "{'B': 100, 'C': 100, 'J': 100, 'D': 100, 'L': 100, 'A': 100, 'K': 100, 'I': 100, 'E': 100, 'M': 100, 'F': 100, 'G': 100, 'H': 100}\n",
      "puzzle in 2D\n",
      ". B B B C C \n",
      "\n",
      ". . J D D L \n",
      "\n",
      "A A J . K L \n",
      "\n",
      "I E E . K M \n",
      "\n",
      "I F F . . M \n",
      "\n",
      "G G H H H M \n",
      "\n",
      "\n",
      "Car Coordinate Dictionary: \n",
      "{'B': (0, 1), 'C': (0, 4), 'J': (1, 2), 'D': (1, 3), 'L': (1, 5), 'A': (2, 0), 'K': (2, 4), 'I': (3, 0), 'E': (3, 1), 'M': (3, 5), 'F': (4, 1), 'G': (5, 0), 'H': (5, 2)}\n"
     ]
    }
   ],
   "source": [
    "import board\n",
    "\n",
    "input = board.readFile('sampleProblems.txt')\n",
    "goaltest = board.strToBoard(input)\n"
   ]
  },
  {
   "cell_type": "code",
   "execution_count": 2,
   "metadata": {},
   "outputs": [
    {
     "name": "stdout",
     "output_type": "stream",
     "text": [
      "3\n"
     ]
    }
   ],
   "source": [
    "#test for h1\n",
    "h= board.h1(goaltest[4])\n",
    "print(h)"
   ]
  },
  {
   "cell_type": "code",
   "execution_count": 3,
   "metadata": {},
   "outputs": [
    {
     "name": "stdout",
     "output_type": "stream",
     "text": [
      "3\n"
     ]
    }
   ],
   "source": [
    "#test for h2\n",
    "h=board.h2(goaltest[4])\n",
    "print(h)"
   ]
  },
  {
   "cell_type": "code",
   "execution_count": 2,
   "metadata": {},
   "outputs": [
    {
     "name": "stdout",
     "output_type": "stream",
     "text": [
      "9\n"
     ]
    }
   ],
   "source": [
    "#test for h3 with lambda of 3\n",
    "h=board.h3(goaltest[4], 3)\n",
    "print(h)"
   ]
  },
  {
   "cell_type": "code",
   "execution_count": 7,
   "metadata": {},
   "outputs": [
    {
     "name": "stdout",
     "output_type": "stream",
     "text": [
      ". B B B C C \n",
      ". . J D D L \n",
      "A A J . K L \n",
      "I E E . K M \n",
      "I F F . . M \n",
      "G G H H H M \n"
     ]
    }
   ],
   "source": [
    "#test for drawBoard\n",
    "board.drawBoard(goaltest[4])"
   ]
  }
 ],
 "metadata": {
  "kernelspec": {
   "display_name": "Python 3.7.6 ('base')",
   "language": "python",
   "name": "python3"
  },
  "language_info": {
   "codemirror_mode": {
    "name": "ipython",
    "version": 3
   },
   "file_extension": ".py",
   "mimetype": "text/x-python",
   "name": "python",
   "nbconvert_exporter": "python",
   "pygments_lexer": "ipython3",
   "version": "3.7.6"
  },
  "orig_nbformat": 4,
  "vscode": {
   "interpreter": {
    "hash": "96762580dc771c728ac9a1b8aa29a3a420bc09545a8c1a32553175fbb1f6eb2a"
   }
  }
 },
 "nbformat": 4,
 "nbformat_minor": 2
}
