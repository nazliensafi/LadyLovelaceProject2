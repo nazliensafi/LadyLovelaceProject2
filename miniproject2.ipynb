{
 "cells": [
  {
   "cell_type": "markdown",
   "metadata": {},
   "source": [
    "## COMP 472 - FALL 2022 - Mini-Project 2\n",
    "\n",
    "Due date: November 26"
   ]
  },
  {
   "cell_type": "markdown",
   "metadata": {},
   "source": [
    "#### Read txt file to create different input puzzles"
   ]
  },
  {
   "cell_type": "code",
   "execution_count": 1,
   "metadata": {},
   "outputs": [
    {
     "name": "stdout",
     "output_type": "stream",
     "text": [
      "Puzzle1: ...CC.DD.K.LIAAK.LI.JEEMFFJ..M.GGG..\n",
      "\n",
      "\n",
      "Puzzle2: BBICCLG.IJKLGAAJKMGHDDDM.H.....FF...\n",
      "\n",
      "\n",
      "Puzzle3: BBCCK...I.KL..IAALEEIJ.LH..JFFHGGG..\n",
      "\n",
      "\n",
      "Puzzle4: BBB..K..H..K..HAAKCCIJDDG.IJEEGFFF.. B0 C3\n",
      "\n",
      "\n",
      "Puzzle5: .BBBCC..JDDLAAJ.KLIEE.KMIFF..MGGHHHM\n",
      "\n"
     ]
    }
   ],
   "source": [
    "# open sample problem file\n",
    "input_file = open(\"sampleProblems.txt\",\"r\")\n",
    "\n",
    "problem_puzzles = []\n",
    "\n",
    "# filter lines to extract only the puzzles\n",
    "for line in input_file.readlines():\n",
    "    if line[0] != '\\n' and line[0] != '#':\n",
    "        problem_puzzles.append(line)\n",
    "    else:\n",
    "        continue\n",
    "\n",
    "# show the problem puzzles to test\n",
    "count = 0\n",
    "for i in problem_puzzles:\n",
    "    count += 1\n",
    "    print(\"Puzzle{}: {}\\n\".format(count, i))\n",
    "\n",
    "input_file.close()"
   ]
  },
  {
   "cell_type": "markdown",
   "metadata": {},
   "source": [
    "### Function definitions\n",
    "\n",
    "#### print game board\n",
    "print 6x6 game board"
   ]
  },
  {
   "cell_type": "code",
   "execution_count": 2,
   "metadata": {},
   "outputs": [
    {
     "name": "stdout",
     "output_type": "stream",
     "text": [
      "Problem Puzzle  1 : \n",
      "...CC.\n",
      "DD.K.L\n",
      "IAAK.L\n",
      "I.JEEM\n",
      "FFJ..M\n",
      ".GGG..\n",
      "\n",
      "Problem Puzzle  2 : \n",
      "BBICCL\n",
      "G.IJKL\n",
      "GAAJKM\n",
      "GHDDDM\n",
      ".H....\n",
      ".FF...\n",
      "\n",
      "Problem Puzzle  3 : \n",
      "BBCCK.\n",
      "..I.KL\n",
      "..IAAL\n",
      "EEIJ.L\n",
      "H..JFF\n",
      "HGGG..\n",
      "\n",
      "Problem Puzzle  4 : \n",
      "BBB..K\n",
      "..H..K\n",
      "..HAAK\n",
      "CCIJDD\n",
      "G.IJEE\n",
      "GFFF..\n",
      "\n",
      "Problem Puzzle  5 : \n",
      ".BBBCC\n",
      "..JDDL\n",
      "AAJ.KL\n",
      "IEE.KM\n",
      "IFF..M\n",
      "GGHHHM\n",
      "\n"
     ]
    }
   ],
   "source": [
    "def print_board(str):\n",
    "    if len(str) == 36:\n",
    "        for i in range(0, len(str), 6):\n",
    "            print(str[i: i + 6])\n",
    "    else: \n",
    "        new_str = str[0:35]\n",
    "        for i in range(0, len(new_str), 6):\n",
    "            print(str[i: i + 6])\n",
    "\n",
    "\n",
    "# testing function\n",
    "count = 0\n",
    "for p in problem_puzzles:\n",
    "    count+=1\n",
    "    print(\"Problem Puzzle \", count, \": \")\n",
    "    print_board(p)\n",
    "    print()"
   ]
  },
  {
   "cell_type": "markdown",
   "metadata": {},
   "source": [
    "#### List of cars in the puzzle\n",
    "\n",
    "returns a list of string with unique alphabet character representing each car"
   ]
  },
  {
   "cell_type": "code",
   "execution_count": 13,
   "metadata": {},
   "outputs": [
    {
     "name": "stdout",
     "output_type": "stream",
     "text": [
      "...CC.DD.K.LIAAK.LI.JEEMFFJ..M.GGG..\n",
      "\n",
      "{'I', 'E', 'M', 'F', '\\n', 'D', 'L', 'K', 'A', 'J', 'G', '.', 'C'}\n",
      "['I', 'H', 'J', 'M', 'F', 'D', 'L', 'B', 'K', 'A', 'G', 'C']\n"
     ]
    }
   ],
   "source": [
    "def car_list(str):\n",
    "    res = []\n",
    "    car = ''.join(set(str))\n",
    "\n",
    "    for c in car:\n",
    "        if c == '.':\n",
    "            continue\n",
    "        elif c == '\\n':\n",
    "            continue\n",
    "        else:\n",
    "            res.append(c)\n",
    "\n",
    "    return res\n",
    "\n",
    "# testing function\n",
    "print(problem_puzzles[0])\n",
    "print(set(problem_puzzles[0]))\n",
    "test_car_list = car_list(problem_puzzles[1])\n",
    "print(test_car_list)"
   ]
  },
  {
   "cell_type": "markdown",
   "metadata": {},
   "source": [
    "#### determine fuel level\n",
    "\n",
    "returns a list containing char representing cars and int representing fuel level <br>\n",
    "ex. [A , 100, B, 100, C, 100]"
   ]
  },
  {
   "cell_type": "code",
   "execution_count": 15,
   "metadata": {},
   "outputs": [
    {
     "name": "stdout",
     "output_type": "stream",
     "text": [
      "Test 1\n",
      "Car  B fuel level:  0\n",
      "Car  C fuel level:  3\n",
      "Car  I fuel level:  100\n",
      "Car  E fuel level:  100\n",
      "Car  H fuel level:  100\n",
      "Car  F fuel level:  100\n",
      "Car  D fuel level:  100\n",
      "Car  K fuel level:  100\n",
      "Car  A fuel level:  100\n",
      "Car  J fuel level:  100\n",
      "Car  G fuel level:  100\n",
      "Test 2\n",
      "Car  I fuel level:  100\n",
      "Car  E fuel level:  100\n",
      "Car  M fuel level:  100\n",
      "Car  F fuel level:  100\n",
      "Car  D fuel level:  100\n",
      "Car  L fuel level:  100\n",
      "Car  K fuel level:  100\n",
      "Car  A fuel level:  100\n",
      "Car  J fuel level:  100\n",
      "Car  G fuel level:  100\n",
      "Car  C fuel level:  100\n"
     ]
    }
   ],
   "source": [
    "def fuel_level(str):\n",
    "    car_fuel = []\n",
    "\n",
    "    # if the original line does not contain specification of initial fuel_level\n",
    "    if len(str) == 36:\n",
    "        cars = car_list(str)\n",
    "        for c in cars:\n",
    "            car_fuel.append(c)\n",
    "            car_fuel.append(100)\n",
    "    \n",
    "    if len(str)>36:\n",
    "        # the fuel-level specification is separated by a space\n",
    "        new_str = str[37:]\n",
    "        cars = car_list(str[:35])\n",
    "        for i in range(0, len(new_str), 3):\n",
    "            if new_str[i] in cars:\n",
    "                car_fuel.append(new_str[i])\n",
    "                car_fuel.append(new_str[i+1])\n",
    "\n",
    "        # for cars without fuel-level specification, add 100\n",
    "        for c in cars:\n",
    "            if c in car_fuel:\n",
    "                continue\n",
    "            else:\n",
    "                car_fuel.append(c)\n",
    "                car_fuel.append(100)\n",
    "        \n",
    "    return car_fuel\n",
    "\n",
    "\n",
    "#testing function\n",
    "print(\"Test 1\")\n",
    "test_res1 = fuel_level(problem_puzzles[3])\n",
    "for i in range(0, len(test_res1), 2):\n",
    "    print(\"Car \",test_res1[i], \"fuel level: \", test_res1[i+1])\n",
    "\n",
    "print(\"Test 2\")\n",
    "test_res2 = fuel_level(problem_puzzles[0])\n",
    "for i in range(0, len(test_res2), 2):\n",
    "    print(\"Car \",test_res2[i], \"fuel level: \", test_res2[i+1])"
   ]
  },
  {
   "cell_type": "markdown",
   "metadata": {},
   "source": [
    "#### Uniform Cost-Search"
   ]
  },
  {
   "cell_type": "code",
   "execution_count": null,
   "metadata": {},
   "outputs": [],
   "source": [
    "def  uniform_cost_search(goal, start):"
   ]
  }
 ],
 "metadata": {
  "kernelspec": {
   "display_name": "Python 3.7.6 64-bit ('anaconda3')",
   "language": "python",
   "name": "python3"
  },
  "language_info": {
   "codemirror_mode": {
    "name": "ipython",
    "version": 3
   },
   "file_extension": ".py",
   "mimetype": "text/x-python",
   "name": "python",
   "nbconvert_exporter": "python",
   "pygments_lexer": "ipython3",
   "version": "3.8.9"
  },
  "orig_nbformat": 4,
  "vscode": {
   "interpreter": {
    "hash": "96762580dc771c728ac9a1b8aa29a3a420bc09545a8c1a32553175fbb1f6eb2a"
   }
  }
 },
 "nbformat": 4,
 "nbformat_minor": 2
}
