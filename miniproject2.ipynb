{
 "cells": [
  {
   "cell_type": "markdown",
   "metadata": {},
   "source": [
    "## COMP 472 - FALL 2022 - Mini-Project 2\n",
    "\n",
    "Due date: November 26"
   ]
  },
  {
   "cell_type": "markdown",
   "metadata": {},
   "source": [
    "#### Read txt file to create different input puzzles"
   ]
  },
  {
   "cell_type": "code",
   "execution_count": 25,
   "metadata": {},
   "outputs": [
    {
     "name": "stdout",
     "output_type": "stream",
     "text": [
      "Puzzle1: ...CC.DD.K.LIAAK.LI.JEEMFFJ..M.GGG..\n",
      "\n",
      "\n",
      "Puzzle2: BBICCLG.IJKLGAAJKMGHDDDM.H.....FF...\n",
      "\n",
      "\n",
      "Puzzle3: BBCCK...I.KL..IAALEEIJ.LH..JFFHGGG..\n",
      "\n",
      "\n",
      "Puzzle4: BBB..K..H..K..HAAKCCIJDDG.IJEEGFFF.. B0 C3\n",
      "\n",
      "\n",
      "Puzzle5: .BBBCC..JDDLAAJ.KLIEE.KMIFF..MGGHHHM\n",
      "\n"
     ]
    }
   ],
   "source": [
    "# open sample problem file\n",
    "input_file = open(\"sampleProblems.txt\",\"r\")\n",
    "\n",
    "problem_puzzles = []\n",
    "\n",
    "# filter lines to extract only the puzzles\n",
    "for line in input_file.readlines():\n",
    "    if line[0] != '\\n' and line[0] != '#':\n",
    "        problem_puzzles.append(line)\n",
    "    else:\n",
    "        continue\n",
    "\n",
    "# show the problem puzzles to test\n",
    "count = 0\n",
    "for i in problem_puzzles:\n",
    "    count += 1\n",
    "    print(\"Puzzle{}: {}\\n\".format(count, i))\n",
    "\n",
    "input_file.close()"
   ]
  }
 ],
 "metadata": {
  "kernelspec": {
   "display_name": "Python 3.7.6 64-bit ('anaconda3')",
   "language": "python",
   "name": "python3"
  },
  "language_info": {
   "codemirror_mode": {
    "name": "ipython",
    "version": 3
   },
   "file_extension": ".py",
   "mimetype": "text/x-python",
   "name": "python",
   "nbconvert_exporter": "python",
   "pygments_lexer": "ipython3",
   "version": "3.7.6"
  },
  "orig_nbformat": 4,
  "vscode": {
   "interpreter": {
    "hash": "96762580dc771c728ac9a1b8aa29a3a420bc09545a8c1a32553175fbb1f6eb2a"
   }
  }
 },
 "nbformat": 4,
 "nbformat_minor": 2
}
